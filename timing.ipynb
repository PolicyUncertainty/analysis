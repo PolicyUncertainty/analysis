{
 "cells": [
  {
   "cell_type": "code",
   "execution_count": 1,
   "id": "initial_id",
   "metadata": {
    "collapsed": true,
    "ExecuteTime": {
     "end_time": "2024-03-05T17:43:54.599231996Z",
     "start_time": "2024-03-05T17:43:53.654695440Z"
    }
   },
   "outputs": [],
   "source": [
    "import os\n",
    "import time\n",
    "import jax\n",
    "\n",
    "import numpy as np\n",
    "import pandas as pd\n",
    "import sys\n",
    "import yaml\n",
    "jax.config.update(\"jax_enable_x64\", True)\n",
    "import pickle"
   ]
  },
  {
   "cell_type": "code",
   "outputs": [],
   "source": [
    "# Mount drive. Make sure everything(including submodules) are there\n",
    "from google.colab import drive\n",
    "drive.mount('/content/drive', force_remount=True)\n",
    "%cd drive/MyDrive/colab_notebooks/policy_unc/analysis"
   ],
   "metadata": {
    "collapsed": false
   },
   "id": "a8d3cddb57121b40",
   "execution_count": null
  },
  {
   "cell_type": "code",
   "outputs": [],
   "source": [
    "analysis_path = os.getcwd() + \"/../../\"\n",
    "# analysis_path = os.getcwd() + \"/\"\n",
    "sys.path.insert(0, analysis_path + \"submodules/dcegm/src/\")\n",
    "sys.path.insert(0, analysis_path + \"src/\")\n",
    "from set_paths import create_path_dict\n",
    "path_dict = create_path_dict(analysis_path)"
   ],
   "metadata": {
    "collapsed": false,
    "ExecuteTime": {
     "end_time": "2024-03-05T17:47:13.663380153Z",
     "start_time": "2024-03-05T17:47:13.610092929Z"
    }
   },
   "id": "c444dd4c896ef18b",
   "execution_count": 6
  },
  {
   "cell_type": "code",
   "outputs": [],
   "source": [
    "params = pickle.load(open(path_dict[\"est_results\"] + \"est_params.pkl\", \"rb\"))"
   ],
   "metadata": {
    "collapsed": false,
    "ExecuteTime": {
     "end_time": "2024-03-05T17:48:05.529848801Z",
     "start_time": "2024-03-05T17:48:05.479558842Z"
    }
   },
   "id": "740c722469655c79",
   "execution_count": 10
  },
  {
   "cell_type": "code",
   "outputs": [
    {
     "name": "stdout",
     "output_type": "stream",
     "text": [
      "3\n",
      "8\n",
      "15\n",
      "29\n",
      "71\n",
      "141\n",
      "281\n",
      "701\n"
     ]
    }
   ],
   "source": [
    "from model_code.policy_states_belief import (update_specs_exp_ret_age_trans_mat, \n",
    "                                             expected_SRA_probs_estimation)\n",
    "from model_code.budget_equation import create_savings_grid\n",
    "from model_code.specify_model import specify_model\n",
    "from dcegm.solve import get_solve_func_for_model\n",
    "\n",
    "\n",
    "savings_grid = create_savings_grid()\n",
    "grid_size_steps = [3.5, 1, 0.5, 0.25, 0.1, 0.05, 0.025, 0.01]\n",
    "n_exps = len(grid_size_steps)\n",
    "\n",
    "times = np.zeros((n_exps, 6))\n",
    "\n",
    "for id_exp, grid_size in enumerate(grid_size_steps):\n",
    "    specs = yaml.safe_load(open(path_dict[\"specs\"]))\n",
    "    specs[\"SRA_grid_size\"] = grid_size\n",
    "    yaml.safe_dump(specs, open(path_dict[\"specs\"], \"w\"))\n",
    "    \n",
    "    # Specify the model\n",
    "    before_spec = time.time()\n",
    "    model, options, params = specify_model(\n",
    "        path_dict=path_dict,\n",
    "        update_spec_for_policy_state=update_specs_exp_ret_age_trans_mat,\n",
    "        policy_state_trans_func=expected_SRA_probs_estimation,\n",
    "        params=params,\n",
    "        load_model=False,\n",
    "    )\n",
    "    n_policy_states = options[\"model_params\"][\"n_policy_states\"]\n",
    "    after_spec = time.time()\n",
    "    spec_time = after_spec - before_spec\n",
    "    times[id_exp, 0] = spec_time\n",
    "    np.savetxt(path_dict[\"intermediate_data\"] + \"times.csv\", times, delimiter=\",\")\n",
    "    print(f\"Specified model for {n_policy_states} took {spec_time}\")\n",
    "    \n",
    "    # Get solve function\n",
    "    solve_func = get_solve_func_for_model(model, savings_grid, options)\n",
    "    after_get_solve = time.time()\n",
    "    get_solve_time = after_get_solve - after_spec\n",
    "    times[id_exp, 1] = get_solve_time\n",
    "    np.savetxt(path_dict[\"intermediate_data\"] + \"times.csv\", times, delimiter=\",\")\n",
    "    print(f\"Got solve function for {n_policy_states} took {get_solve_time}\")\n",
    "    \n",
    "    # Solve the model first time\n",
    "    jax.block_until_ready(solve_func(params))\n",
    "    after_first_solve = time.time()\n",
    "    first_solve_time = after_first_solve - after_get_solve\n",
    "    times[id_exp, 2] = first_solve_time\n",
    "    np.savetxt(path_dict[\"intermediate_data\"] + \"times.csv\", times, delimiter=\",\")\n",
    "    print(f\"First solve for {n_policy_states} took {first_solve_time}\")\n",
    "    \n",
    "    # Solve the model second time\n",
    "    jax.block_until_ready(solve_func(params))\n",
    "    after_second_solve = time.time()\n",
    "    second_solve_time = after_second_solve - after_first_solve\n",
    "    times[id_exp, 3] = second_solve_time\n",
    "    np.savetxt(path_dict[\"intermediate_data\"] + \"times.csv\", times, delimiter=\",\")\n",
    "    print(f\"Second solve for {n_policy_states} took {second_solve_time}\")\n",
    "    \n",
    "    # Solve the model third time\n",
    "    jax.block_until_ready(solve_func(params))   \n",
    "    after_third_solve = time.time()\n",
    "    third_solve_time = after_third_solve - after_second_solve\n",
    "    times[id_exp, 4] = third_solve_time\n",
    "    np.savetxt(path_dict[\"intermediate_data\"] + \"times.csv\", times, delimiter=\",\")\n",
    "    print(f\"Third solve for {n_policy_states} took {third_solve_time}\")\n",
    "    \n",
    "    # Solve the model fourth time\n",
    "    jax.block_until_ready(solve_func(params))\n",
    "    after_fourth_solve = time.time()\n",
    "    fourth_solve_time = after_fourth_solve - after_third_solve\n",
    "    times[id_exp, 5] = fourth_solve_time\n",
    "    np.savetxt(path_dict[\"intermediate_data\"] + \"times.csv\", times, delimiter=\",\")\n",
    "    print(f\"Fourth solve for {n_policy_states} took {fourth_solve_time}\")\n",
    "    print(f\"Total time for {n_policy_states} is {np.sum(times[id_exp, :])}\")\n",
    "    \n",
    "    "
   ],
   "metadata": {
    "collapsed": false,
    "ExecuteTime": {
     "end_time": "2024-03-05T17:52:56.169699218Z",
     "start_time": "2024-03-05T17:52:56.053022558Z"
    }
   },
   "id": "251e8a8c4c9aaae9",
   "execution_count": 20
  }
 ],
 "metadata": {
  "kernelspec": {
   "display_name": "Python 3",
   "language": "python",
   "name": "python3"
  },
  "language_info": {
   "codemirror_mode": {
    "name": "ipython",
    "version": 2
   },
   "file_extension": ".py",
   "mimetype": "text/x-python",
   "name": "python",
   "nbconvert_exporter": "python",
   "pygments_lexer": "ipython2",
   "version": "2.7.6"
  }
 },
 "nbformat": 4,
 "nbformat_minor": 5
}
