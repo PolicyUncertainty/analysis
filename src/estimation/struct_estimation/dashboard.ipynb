{
 "cells": [
  {
   "cell_type": "code",
   "id": "initial_id",
   "metadata": {
    "collapsed": true,
    "ExecuteTime": {
     "end_time": "2024-11-08T15:51:40.445591Z",
     "start_time": "2024-11-08T15:51:37.235747Z"
    }
   },
   "source": [
    "from estimation.struct_estimation.start_params.set_start_params import (\n",
    "    load_and_set_start_params,\n",
    ")\n",
    "from specs.derive_specs import generate_derived_and_data_derived_specs\n",
    "from set_paths import create_path_dict\n",
    "from model_code.specify_model import specify_model\n",
    "from model_code.stochastic_processes.policy_states_belief import (\n",
    "    expected_SRA_probs_estimation,\n",
    ")\n",
    "from model_code.stochastic_processes.policy_states_belief import (\n",
    "    update_specs_exp_ret_age_trans_mat,\n",
    ")\n",
    "from estimation.struct_estimation.estimate_setup import load_and_prep_data\n",
    "from estimation.struct_estimation.estimate_setup import create_unobserved_state_specs\n",
    "from export_results.figures.observed_model_fit import load_and_prep_data_for_model_fit"
   ],
   "outputs": [],
   "execution_count": 1
  },
  {
   "metadata": {
    "ExecuteTime": {
     "end_time": "2024-11-08T15:51:41.306472Z",
     "start_time": "2024-11-08T15:51:40.449660Z"
    }
   },
   "cell_type": "code",
   "source": [
    "paths_dict = create_path_dict(define_user=False)\n",
    "specs = generate_derived_and_data_derived_specs(paths_dict)\n",
    "start_params_all = load_and_set_start_params(paths_dict)\n",
    "start_params_all[\"bequest_scale\"] = 1"
   ],
   "id": "72f3fc7994d593f7",
   "outputs": [
    {
     "name": "stdout",
     "output_type": "stream",
     "text": [
      "Optimization terminated successfully.\n",
      "         Current function value: 0.570576\n",
      "         Iterations 5\n"
     ]
    }
   ],
   "execution_count": 2
  },
  {
   "metadata": {
    "ExecuteTime": {
     "end_time": "2024-11-08T15:51:41.719793Z",
     "start_time": "2024-11-08T15:51:41.308247Z"
    }
   },
   "cell_type": "code",
   "source": [
    "# Generate model_specs\n",
    "model, start_params_all = specify_model(\n",
    "    path_dict=paths_dict,\n",
    "    update_spec_for_policy_state=update_specs_exp_ret_age_trans_mat,\n",
    "    policy_state_trans_func=expected_SRA_probs_estimation,\n",
    "    params=start_params_all,\n",
    "    load_model=True,\n",
    ")"
   ],
   "id": "869627c49eb418e0",
   "outputs": [
    {
     "name": "stdout",
     "output_type": "stream",
     "text": [
      "Update function for state space not given. Assume states only change with an increase of the period and lagged choice.\n",
      "Model specified.\n"
     ]
    }
   ],
   "execution_count": 3
  },
  {
   "metadata": {
    "ExecuteTime": {
     "end_time": "2024-11-08T15:51:43.750323Z",
     "start_time": "2024-11-08T15:51:41.723575Z"
    }
   },
   "cell_type": "code",
   "source": "data_decision, states_dict = load_and_prep_data_for_model_fit(paths_dict, specs, start_params_all, model)",
   "id": "dd6c76610fdb7495",
   "outputs": [],
   "execution_count": 4
  },
  {
   "metadata": {
    "ExecuteTime": {
     "end_time": "2024-11-08T15:51:43.758234Z",
     "start_time": "2024-11-08T15:51:43.752566Z"
    }
   },
   "cell_type": "code",
   "source": "unobserved_state_specs = create_unobserved_state_specs(data_decision, model)",
   "id": "bd280c3817f7c4dc",
   "outputs": [],
   "execution_count": 5
  },
  {
   "metadata": {},
   "cell_type": "code",
   "outputs": [],
   "execution_count": null,
   "source": "",
   "id": "5bea288b30e2bb92"
  },
  {
   "metadata": {},
   "cell_type": "code",
   "outputs": [],
   "execution_count": null,
   "source": "",
   "id": "618dbca44ad47010"
  }
 ],
 "metadata": {
  "kernelspec": {
   "display_name": "Python 3",
   "language": "python",
   "name": "python3"
  },
  "language_info": {
   "codemirror_mode": {
    "name": "ipython",
    "version": 2
   },
   "file_extension": ".py",
   "mimetype": "text/x-python",
   "name": "python",
   "nbconvert_exporter": "python",
   "pygments_lexer": "ipython2",
   "version": "2.7.6"
  }
 },
 "nbformat": 4,
 "nbformat_minor": 5
}
