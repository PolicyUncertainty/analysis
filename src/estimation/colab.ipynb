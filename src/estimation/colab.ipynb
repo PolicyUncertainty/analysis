{
 "cells": [
  {
   "cell_type": "code",
   "source": [
    "%load_ext autoreload\n",
    "%autoreload 2\n",
    "import os\n",
    "import time\n",
    "import jax\n",
    "\n",
    "import numpy as np\n",
    "import pandas as pd\n",
    "import sys\n",
    "import yaml\n",
    "jax.config.update(\"jax_enable_x64\", True)\n",
    "import pickle"
   ],
   "metadata": {
    "id": "EEq4xGScVTpA",
    "executionInfo": {
     "status": "ok",
     "timestamp": 1706646367157,
     "user_tz": 300,
     "elapsed": 1231,
     "user": {
      "displayName": "Maximilian Blesch",
      "userId": "15560415244613063040"
     }
    }
   },
   "id": "EEq4xGScVTpA",
   "execution_count": 1,
   "outputs": []
  },
  {
   "cell_type": "code",
   "source": [
    "# Install dependencies\n",
    "!pip install linearmodels"
   ],
   "metadata": {
    "colab": {
     "base_uri": "https://localhost:8080/"
    },
    "id": "1hesajzIW9WP",
    "executionInfo": {
     "status": "ok",
     "timestamp": 1706636509399,
     "user_tz": 300,
     "elapsed": 6227,
     "user": {
      "displayName": "Maximilian Blesch",
      "userId": "15560415244613063040"
     }
    },
    "outputId": "68596cfc-5c27-4c24-d9f5-bbcdf7e68193"
   },
   "id": "1hesajzIW9WP",
   "execution_count": null,
   "outputs": [
    {
     "output_type": "stream",
     "name": "stdout",
     "text": [
      "Requirement already satisfied: linearmodels in /usr/local/lib/python3.10/dist-packages (5.4)\n",
      "Requirement already satisfied: numpy>=1.22.0 in /usr/local/lib/python3.10/dist-packages (from linearmodels) (1.23.5)\n",
      "Requirement already satisfied: pandas>=1.3.0 in /usr/local/lib/python3.10/dist-packages (from linearmodels) (1.5.3)\n",
      "Requirement already satisfied: scipy>=1.5.0 in /usr/local/lib/python3.10/dist-packages (from linearmodels) (1.11.4)\n",
      "Requirement already satisfied: statsmodels>=0.12.0 in /usr/local/lib/python3.10/dist-packages (from linearmodels) (0.14.1)\n",
      "Requirement already satisfied: mypy-extensions>=0.4 in /usr/local/lib/python3.10/dist-packages (from linearmodels) (1.0.0)\n",
      "Requirement already satisfied: Cython>=0.29.37 in /usr/local/lib/python3.10/dist-packages (from linearmodels) (3.0.8)\n",
      "Requirement already satisfied: pyhdfe>=0.1 in /usr/local/lib/python3.10/dist-packages (from linearmodels) (0.2.0)\n",
      "Requirement already satisfied: formulaic>=0.6.5 in /usr/local/lib/python3.10/dist-packages (from linearmodels) (1.0.1)\n",
      "Requirement already satisfied: setuptools-scm[toml]<9.0.0,>=8.0.0 in /usr/local/lib/python3.10/dist-packages (from linearmodels) (8.0.4)\n",
      "Requirement already satisfied: interface-meta>=1.2.0 in /usr/local/lib/python3.10/dist-packages (from formulaic>=0.6.5->linearmodels) (1.3.0)\n",
      "Requirement already satisfied: typing-extensions>=4.2.0 in /usr/local/lib/python3.10/dist-packages (from formulaic>=0.6.5->linearmodels) (4.5.0)\n",
      "Requirement already satisfied: wrapt>=1.0 in /usr/local/lib/python3.10/dist-packages (from formulaic>=0.6.5->linearmodels) (1.14.1)\n",
      "Requirement already satisfied: python-dateutil>=2.8.1 in /usr/local/lib/python3.10/dist-packages (from pandas>=1.3.0->linearmodels) (2.8.2)\n",
      "Requirement already satisfied: pytz>=2020.1 in /usr/local/lib/python3.10/dist-packages (from pandas>=1.3.0->linearmodels) (2023.3.post1)\n",
      "Requirement already satisfied: packaging>=20 in /usr/local/lib/python3.10/dist-packages (from setuptools-scm[toml]<9.0.0,>=8.0.0->linearmodels) (23.2)\n",
      "Requirement already satisfied: setuptools in /usr/local/lib/python3.10/dist-packages (from setuptools-scm[toml]<9.0.0,>=8.0.0->linearmodels) (67.7.2)\n",
      "Requirement already satisfied: tomli>=1 in /usr/local/lib/python3.10/dist-packages (from setuptools-scm[toml]<9.0.0,>=8.0.0->linearmodels) (2.0.1)\n",
      "Requirement already satisfied: patsy>=0.5.4 in /usr/local/lib/python3.10/dist-packages (from statsmodels>=0.12.0->linearmodels) (0.5.6)\n",
      "Requirement already satisfied: six in /usr/local/lib/python3.10/dist-packages (from patsy>=0.5.4->statsmodels>=0.12.0->linearmodels) (1.16.0)\n"
     ]
    }
   ]
  },
  {
   "cell_type": "code",
   "outputs": [],
   "source": [
    "!conda install estimagic -c conda-forge"
   ],
   "metadata": {
    "collapsed": false
   },
   "id": "4d680e02ffecb8d6"
  },
  {
   "cell_type": "code",
   "outputs": [],
   "source": [
    "import estimagic as em"
   ],
   "metadata": {
    "collapsed": false
   },
   "id": "1afc163604322d8e"
  },
  {
   "cell_type": "code",
   "source": [
    "# Mount drive. Make sure everything(including submodules) are there\n",
    "from google.colab import drive\n",
    "drive.mount('/content/drive', force_remount=True)"
   ],
   "metadata": {
    "colab": {
     "base_uri": "https://localhost:8080/"
    },
    "id": "YyHm-smbVVOS",
    "executionInfo": {
     "status": "ok",
     "timestamp": 1706646393604,
     "user_tz": 300,
     "elapsed": 26450,
     "user": {
      "displayName": "Maximilian Blesch",
      "userId": "15560415244613063040"
     }
    },
    "outputId": "74143b3a-4d9a-4086-9895-734fdcd4f71f"
   },
   "id": "YyHm-smbVVOS",
   "execution_count": 2,
   "outputs": [
    {
     "output_type": "stream",
     "name": "stdout",
     "text": [
      "Mounted at /content/drive\n"
     ]
    }
   ]
  },
  {
   "cell_type": "code",
   "source": [
    "%cd drive/MyDrive/colab_notebooks/policy_unc/analysis"
   ],
   "metadata": {
    "colab": {
     "base_uri": "https://localhost:8080/"
    },
    "id": "EeUxxRrUVuqP",
    "executionInfo": {
     "status": "ok",
     "timestamp": 1706646393792,
     "user_tz": 300,
     "elapsed": 197,
     "user": {
      "displayName": "Maximilian Blesch",
      "userId": "15560415244613063040"
     }
    },
    "outputId": "a47de825-3067-4677-b5aa-8f9d2ead0fe0"
   },
   "id": "EeUxxRrUVuqP",
   "execution_count": 3,
   "outputs": [
    {
     "output_type": "stream",
     "name": "stdout",
     "text": [
      "/content/drive/MyDrive/colab_notebooks/policy_unc/analysis\n"
     ]
    }
   ]
  },
  {
   "cell_type": "code",
   "outputs": [],
   "source": [
    "analysis_path = os.getcwd() + \"/\"\n",
    "file_dir_path = analysis_path + \"src/estimation/\"\n",
    "project_paths = {\n",
    "    \"project_path\": analysis_path,\n",
    "    \"model_path\": file_dir_path + \"results_and_data/\",\n",
    "}\n",
    "from estimation.tools import process_data_and_model\n"
   ],
   "metadata": {
    "collapsed": false
   },
   "id": "51b44044c0383c63"
  },
  {
   "cell_type": "code",
   "outputs": [],
   "source": [
    "sys.path.insert(0, analysis_path + \"submodules/dcegm/src/\")\n",
    "sys.path.insert(0, analysis_path + \"src/\")\n",
    "data_decision = pd.read_pickle(analysis_path + \"output/decision_data.pkl\")"
   ],
   "metadata": {
    "collapsed": false
   },
   "id": "424c944360e40d91"
  },
  {
   "cell_type": "code",
   "outputs": [],
   "source": [
    "start_params_all = {\n",
    "    # Utility parameters\n",
    "    \"mu\": 0.5,\n",
    "    \"dis_util_work\": 4.0,\n",
    "    \"dis_util_unemployed\": 1.0,\n",
    "    \"bequest_scale\": 2.0,\n",
    "    # Taste and income shock scale\n",
    "    \"lambda\": 1.0,\n",
    "    # Interest rate and discount factor\n",
    "    \"interest_rate\": 0.03,\n",
    "    \"beta\": 0.95,\n",
    "}\n",
    "\n",
    "\n",
    "params_to_estimate_names = [\n",
    "    # \"mu\",\n",
    "    \"dis_util_work\",\n",
    "    \"dis_util_unemployed\",\n",
    "    \"bequest_scale\",\n",
    "    # \"lambda\",\n",
    "    # \"sigma\",\n",
    "]\n",
    "start_params = {name: start_params_all[name] for name in params_to_estimate_names}\n",
    "\n",
    "\n",
    "lower_bounds = {\n",
    "    \"dis_util_work\": 1e-12,\n",
    "    \"dis_util_unemployed\": 1e-12,\n",
    "    \"bequest_scale\": 1e-12,\n",
    "    # \"lambda\": 1e-12,\n",
    "}\n",
    "upper_bounds = {\n",
    "    \"dis_util_work\": 100,\n",
    "    \"dis_util_unemployed\": 100,\n",
    "    \"bequest_scale\": 10,\n",
    "    # \"lambda\": 100,\n",
    "}\n",
    "\n",
    "individual_likelihood = process_data_and_model(\n",
    "    data_decision=data_decision,\n",
    "    project_paths=project_paths,\n",
    "    start_params_all=start_params_all,\n",
    "    load_model=True,\n",
    ")\n",
    "\n",
    "\n",
    "def individual_likelihood_print(params):\n",
    "    ll_value = individual_likelihood(params)\n",
    "    print(\"Params, \", params, \" with ll value, \", ll_value)\n",
    "    return ll_value\n",
    "\n",
    "\n"
   ],
   "metadata": {
    "collapsed": false
   },
   "id": "9305ba8c92ab6a80"
  },
  {
   "cell_type": "code",
   "outputs": [],
   "source": [
    "result = em.minimize(\n",
    "    criterion=individual_likelihood_print,\n",
    "    params=start_params,\n",
    "    lower_bounds=lower_bounds,\n",
    "    upper_bounds=upper_bounds,\n",
    "    algorithm=\"scipy_lbfgsb\",\n",
    "    logging=\"test_log.db\",\n",
    "    error_handling=\"continue\",\n",
    ")\n",
    "pickle.dump(result, open(file_dir_path + \"res.pkl\", \"wb\"))"
   ],
   "metadata": {
    "collapsed": false
   },
   "id": "fcbaa097bf7b7122"
  },
  {
   "cell_type": "code",
   "outputs": [],
   "source": [],
   "metadata": {
    "collapsed": false
   },
   "id": "4e3ba697919ded35"
  }
 ],
 "metadata": {
  "kernelspec": {
   "display_name": "Python 3",
   "name": "python3"
  },
  "language_info": {
   "codemirror_mode": {
    "name": "ipython",
    "version": 2
   },
   "file_extension": ".py",
   "mimetype": "text/x-python",
   "name": "python",
   "nbconvert_exporter": "python",
   "pygments_lexer": "ipython2",
   "version": "2.7.6"
  },
  "colab": {
   "provenance": [],
   "gpuType": "T4"
  },
  "accelerator": "GPU"
 },
 "nbformat": 4,
 "nbformat_minor": 5
}
