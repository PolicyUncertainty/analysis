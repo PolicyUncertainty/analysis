{
 "cells": [
  {
   "cell_type": "code",
   "execution_count": 1,
   "metadata": {},
   "outputs": [
    {
     "name": "stderr",
     "output_type": "stream",
     "text": [
      "c:\\Users\\bruno\\miniconda3\\envs\\policy_uncertainty\\lib\\site-packages\\pandas\\core\\arrays\\masked.py:60: UserWarning: Pandas requires version '1.3.6' or newer of 'bottleneck' (version '1.3.5' currently installed).\n",
      "  from pandas.core import (\n"
     ]
    }
   ],
   "source": [
    "from set_paths import create_path_dict\n",
    "from specs.derive_specs import read_and_derive_specs\n",
    "path_dict = create_path_dict(define_user = True, user = \"b\")"
   ]
  },
  {
   "cell_type": "code",
   "execution_count": 2,
   "metadata": {},
   "outputs": [
    {
     "name": "stderr",
     "output_type": "stream",
     "text": [
      "c:\\users\\bruno\\papers\\policy_uncertainty\\analysis\\src\\beliefs\\process_soep_is.py:26: UnicodeWarning: \n",
      "One or more strings in the dta file could not be decoded using utf-8, and\n",
      "so the fallback encoding of latin-1 is being used.  This can happen when a file\n",
      "has been incorrectly encoded by Stata or some other software. You should verify\n",
      "the string values returned are correct.\n",
      "  df = pd.read_stata(soep_is_path)[id_columns + pension_survey_columns].astype(float)\n"
     ]
    },
    {
     "name": "stdout",
     "output_type": "stream",
     "text": [
      "795 observations in SOEP-IS pension beliefs survey.\n",
      "Extracting covariates from SOEP data. This may take a while.\n",
      "795 left after dropping missing and unspecified sex.\n"
     ]
    },
    {
     "ename": "KeyError",
     "evalue": "'Requested level (syear) does not match index name (None)'",
     "output_type": "error",
     "traceback": [
      "\u001b[1;31m---------------------------------------------------------------------------\u001b[0m",
      "\u001b[1;31mKeyError\u001b[0m                                  Traceback (most recent call last)",
      "Cell \u001b[1;32mIn[2], line 5\u001b[0m\n\u001b[0;32m      3\u001b[0m \u001b[38;5;28;01mfrom\u001b[39;00m \u001b[38;5;21;01mbeliefs\u001b[39;00m\u001b[38;5;21;01m.\u001b[39;00m\u001b[38;5;21;01mprocess_soep_is\u001b[39;00m \u001b[38;5;28;01mimport\u001b[39;00m add_covariates\n\u001b[0;32m      4\u001b[0m df \u001b[38;5;241m=\u001b[39m load_and_filter_soep_is(path_dict)\n\u001b[1;32m----> 5\u001b[0m df \u001b[38;5;241m=\u001b[39m \u001b[43madd_covariates\u001b[49m\u001b[43m(\u001b[49m\u001b[43mdf\u001b[49m\u001b[43m,\u001b[49m\u001b[43m \u001b[49m\u001b[43mpath_dict\u001b[49m\u001b[43m)\u001b[49m\n",
      "File \u001b[1;32mc:\\users\\bruno\\papers\\policy_uncertainty\\analysis\\src\\beliefs\\process_soep_is.py:51\u001b[0m, in \u001b[0;36madd_covariates\u001b[1;34m(df, paths)\u001b[0m\n\u001b[0;32m     49\u001b[0m df \u001b[38;5;241m=\u001b[39m rename_and_reformat_is_vars(df)\n\u001b[0;32m     50\u001b[0m df \u001b[38;5;241m=\u001b[39m recode_sex(df)\n\u001b[1;32m---> 51\u001b[0m df \u001b[38;5;241m=\u001b[39m \u001b[43mcalc_age_at_interview\u001b[49m\u001b[43m(\u001b[49m\u001b[43mdf\u001b[49m\u001b[43m)\u001b[49m\n\u001b[0;32m     52\u001b[0m df \u001b[38;5;241m=\u001b[39m create_education_type(df)\n\u001b[0;32m     53\u001b[0m df \u001b[38;5;241m=\u001b[39m create_health_var(df)\n",
      "File \u001b[1;32mc:\\users\\bruno\\papers\\policy_uncertainty\\analysis\\src\\process_data\\soep_vars\\age.py:16\u001b[0m, in \u001b[0;36mcalc_age_at_interview\u001b[1;34m(df)\u001b[0m\n\u001b[0;32m      8\u001b[0m \u001b[38;5;250m\u001b[39m\u001b[38;5;124;03m\"\"\"\u001b[39;00m\n\u001b[0;32m      9\u001b[0m \u001b[38;5;124;03mCalculate the age at interview date. Both float_interview and float_birth\u001b[39;00m\n\u001b[0;32m     10\u001b[0m \u001b[38;5;124;03mare created with missing nans for invalid data. So age will be invalid if\u001b[39;00m\n\u001b[1;32m   (...)\u001b[0m\n\u001b[0;32m     13\u001b[0m \u001b[38;5;124;03mVars needed: gebjahr, gebmonat, syear, pmonin, ptagin\u001b[39;00m\n\u001b[0;32m     14\u001b[0m \u001b[38;5;124;03m\"\"\"\u001b[39;00m\n\u001b[0;32m     15\u001b[0m \u001b[38;5;66;03m# Create birth and interview date\u001b[39;00m\n\u001b[1;32m---> 16\u001b[0m df \u001b[38;5;241m=\u001b[39m \u001b[43mcreate_float_interview_date\u001b[49m\u001b[43m(\u001b[49m\u001b[43mdf\u001b[49m\u001b[43m)\u001b[49m\n\u001b[0;32m     17\u001b[0m df \u001b[38;5;241m=\u001b[39m create_float_birth_date(df)\n\u001b[0;32m     19\u001b[0m \u001b[38;5;66;03m# Calculate the age at interview date\u001b[39;00m\n",
      "File \u001b[1;32mc:\\users\\bruno\\papers\\policy_uncertainty\\analysis\\src\\process_data\\soep_vars\\interview_date.py:19\u001b[0m, in \u001b[0;36mcreate_float_interview_date\u001b[1;34m(df)\u001b[0m\n\u001b[0;32m     17\u001b[0m total_invalid_mask \u001b[38;5;241m=\u001b[39m (df[\u001b[38;5;124m\"\u001b[39m\u001b[38;5;124mptagin\u001b[39m\u001b[38;5;124m\"\u001b[39m]\u001b[38;5;241m.\u001b[39mvalues \u001b[38;5;241m==\u001b[39m \u001b[38;5;241m0\u001b[39m) \u001b[38;5;241m|\u001b[39m ivalid_mask\n\u001b[0;32m     18\u001b[0m total_days[total_invalid_mask] \u001b[38;5;241m=\u001b[39m np\u001b[38;5;241m.\u001b[39mnan\n\u001b[1;32m---> 19\u001b[0m df[\u001b[38;5;124m\"\u001b[39m\u001b[38;5;124mfloat_interview\u001b[39m\u001b[38;5;124m\"\u001b[39m] \u001b[38;5;241m=\u001b[39m \u001b[43mdf\u001b[49m\u001b[38;5;241;43m.\u001b[39;49m\u001b[43mindex\u001b[49m\u001b[38;5;241;43m.\u001b[39;49m\u001b[43mget_level_values\u001b[49m\u001b[43m(\u001b[49m\u001b[38;5;124;43m\"\u001b[39;49m\u001b[38;5;124;43msyear\u001b[39;49m\u001b[38;5;124;43m\"\u001b[39;49m\u001b[43m)\u001b[49m\u001b[38;5;241m.\u001b[39mvalues \u001b[38;5;241m+\u001b[39m total_days \u001b[38;5;241m/\u001b[39m \u001b[38;5;241m365\u001b[39m\n\u001b[0;32m     20\u001b[0m \u001b[38;5;28;01mreturn\u001b[39;00m df\n",
      "File \u001b[1;32mc:\\Users\\bruno\\miniconda3\\envs\\policy_uncertainty\\lib\\site-packages\\pandas\\core\\indexes\\base.py:2102\u001b[0m, in \u001b[0;36mIndex._get_level_values\u001b[1;34m(self, level)\u001b[0m\n\u001b[0;32m   2066\u001b[0m \u001b[38;5;28;01mdef\u001b[39;00m \u001b[38;5;21m_get_level_values\u001b[39m(\u001b[38;5;28mself\u001b[39m, level) \u001b[38;5;241m-\u001b[39m\u001b[38;5;241m>\u001b[39m Index:\n\u001b[0;32m   2067\u001b[0m \u001b[38;5;250m    \u001b[39m\u001b[38;5;124;03m\"\"\"\u001b[39;00m\n\u001b[0;32m   2068\u001b[0m \u001b[38;5;124;03m    Return an Index of values for requested level.\u001b[39;00m\n\u001b[0;32m   2069\u001b[0m \n\u001b[1;32m   (...)\u001b[0m\n\u001b[0;32m   2100\u001b[0m \u001b[38;5;124;03m    Index(['a', 'b', 'c'], dtype='object')\u001b[39;00m\n\u001b[0;32m   2101\u001b[0m \u001b[38;5;124;03m    \"\"\"\u001b[39;00m\n\u001b[1;32m-> 2102\u001b[0m     \u001b[38;5;28;43mself\u001b[39;49m\u001b[38;5;241;43m.\u001b[39;49m\u001b[43m_validate_index_level\u001b[49m\u001b[43m(\u001b[49m\u001b[43mlevel\u001b[49m\u001b[43m)\u001b[49m\n\u001b[0;32m   2103\u001b[0m     \u001b[38;5;28;01mreturn\u001b[39;00m \u001b[38;5;28mself\u001b[39m\n",
      "File \u001b[1;32mc:\\Users\\bruno\\miniconda3\\envs\\policy_uncertainty\\lib\\site-packages\\pandas\\core\\indexes\\base.py:2012\u001b[0m, in \u001b[0;36mIndex._validate_index_level\u001b[1;34m(self, level)\u001b[0m\n\u001b[0;32m   2008\u001b[0m         \u001b[38;5;28;01mraise\u001b[39;00m \u001b[38;5;167;01mIndexError\u001b[39;00m(\n\u001b[0;32m   2009\u001b[0m             \u001b[38;5;124mf\u001b[39m\u001b[38;5;124m\"\u001b[39m\u001b[38;5;124mToo many levels: Index has only 1 level, not \u001b[39m\u001b[38;5;132;01m{\u001b[39;00mlevel\u001b[38;5;250m \u001b[39m\u001b[38;5;241m+\u001b[39m\u001b[38;5;250m \u001b[39m\u001b[38;5;241m1\u001b[39m\u001b[38;5;132;01m}\u001b[39;00m\u001b[38;5;124m\"\u001b[39m\n\u001b[0;32m   2010\u001b[0m         )\n\u001b[0;32m   2011\u001b[0m \u001b[38;5;28;01melif\u001b[39;00m level \u001b[38;5;241m!=\u001b[39m \u001b[38;5;28mself\u001b[39m\u001b[38;5;241m.\u001b[39mname:\n\u001b[1;32m-> 2012\u001b[0m     \u001b[38;5;28;01mraise\u001b[39;00m \u001b[38;5;167;01mKeyError\u001b[39;00m(\n\u001b[0;32m   2013\u001b[0m         \u001b[38;5;124mf\u001b[39m\u001b[38;5;124m\"\u001b[39m\u001b[38;5;124mRequested level (\u001b[39m\u001b[38;5;132;01m{\u001b[39;00mlevel\u001b[38;5;132;01m}\u001b[39;00m\u001b[38;5;124m) does not match index name (\u001b[39m\u001b[38;5;132;01m{\u001b[39;00m\u001b[38;5;28mself\u001b[39m\u001b[38;5;241m.\u001b[39mname\u001b[38;5;132;01m}\u001b[39;00m\u001b[38;5;124m)\u001b[39m\u001b[38;5;124m\"\u001b[39m\n\u001b[0;32m   2014\u001b[0m     )\n",
      "\u001b[1;31mKeyError\u001b[0m: 'Requested level (syear) does not match index name (None)'"
     ]
    }
   ],
   "source": [
    "# import and clean SOEP IS data\n",
    "from beliefs.process_soep_is import load_and_filter_soep_is\n",
    "from beliefs.process_soep_is import add_covariates\n",
    "df = load_and_filter_soep_is(path_dict)\n",
    "df = add_covariates(df, path_dict)\n"
   ]
  },
  {
   "cell_type": "code",
   "execution_count": null,
   "metadata": {},
   "outputs": [
    {
     "ename": "NameError",
     "evalue": "name 'df' is not defined",
     "output_type": "error",
     "traceback": [
      "\u001b[1;31m---------------------------------------------------------------------------\u001b[0m",
      "\u001b[1;31mNameError\u001b[0m                                 Traceback (most recent call last)",
      "Cell \u001b[1;32mIn[1], line 1\u001b[0m\n\u001b[1;32m----> 1\u001b[0m \u001b[43mdf\u001b[49m\u001b[38;5;241m.\u001b[39mhead()\n\u001b[0;32m      2\u001b[0m pension_survey_columns \u001b[38;5;241m=\u001b[39m [\u001b[38;5;124m'\u001b[39m\u001b[38;5;124mexp_stop_work\u001b[39m\u001b[38;5;124m'\u001b[39m,\n\u001b[0;32m      3\u001b[0m     \u001b[38;5;124m'\u001b[39m\u001b[38;5;124mexp_stop_work_rob_plus1\u001b[39m\u001b[38;5;124m'\u001b[39m, \u001b[38;5;124m'\u001b[39m\u001b[38;5;124mexp_stop_work_rob_minus1\u001b[39m\u001b[38;5;124m'\u001b[39m,\n\u001b[0;32m      4\u001b[0m     \u001b[38;5;124m'\u001b[39m\u001b[38;5;124mexp_pens_uptake\u001b[39m\u001b[38;5;124m'\u001b[39m, \u001b[38;5;124m'\u001b[39m\u001b[38;5;124mexp_pens_uptake_rob_plus1\u001b[39m\u001b[38;5;124m'\u001b[39m,\n\u001b[1;32m   (...)\u001b[0m\n\u001b[0;32m      8\u001b[0m     \u001b[38;5;124m'\u001b[39m\u001b[38;5;124mbelief_pens_deduct_rob_times0_5\u001b[39m\u001b[38;5;124m'\u001b[39m, \u001b[38;5;124m'\u001b[39m\u001b[38;5;124mscen_age_66_stop_work\u001b[39m\u001b[38;5;124m'\u001b[39m,\n\u001b[0;32m      9\u001b[0m     \u001b[38;5;124m'\u001b[39m\u001b[38;5;124mscen_age_68_stop_work\u001b[39m\u001b[38;5;124m'\u001b[39m, \u001b[38;5;124m'\u001b[39m\u001b[38;5;124mscen_age_69_stop_work\u001b[39m\u001b[38;5;124m'\u001b[39m]\n\u001b[0;32m     10\u001b[0m df \u001b[38;5;241m=\u001b[39m df\u001b[38;5;241m.\u001b[39mdropna(subset\u001b[38;5;241m=\u001b[39mpension_survey_columns, how\u001b[38;5;241m=\u001b[39m\u001b[38;5;124m'\u001b[39m\u001b[38;5;124mall\u001b[39m\u001b[38;5;124m'\u001b[39m)\n",
      "\u001b[1;31mNameError\u001b[0m: name 'df' is not defined"
     ]
    }
   ],
   "source": [
    "df.head()\n",
    "pension_survey_columns = ['exp_stop_work',\n",
    "    'exp_stop_work_rob_plus1', 'exp_stop_work_rob_minus1',\n",
    "    'exp_pens_uptake', 'exp_pens_uptake_rob_plus1',\n",
    "    'exp_pens_uptake_rob_minus1', 'pol_unc_stat_ret_age_67',\n",
    "    'pol_unc_stat_ret_age_68', 'pol_unc_stat_ret_age_69',\n",
    "    'belief_pens_deduct', 'belief_pens_deduct_rob_times1_5',\n",
    "    'belief_pens_deduct_rob_times0_5', 'scen_age_66_stop_work',\n",
    "    'scen_age_68_stop_work', 'scen_age_69_stop_work']\n"
   ]
  }
 ],
 "metadata": {
  "kernelspec": {
   "display_name": "policy_uncertainty",
   "language": "python",
   "name": "python3"
  },
  "language_info": {
   "codemirror_mode": {
    "name": "ipython",
    "version": 3
   },
   "file_extension": ".py",
   "mimetype": "text/x-python",
   "name": "python",
   "nbconvert_exporter": "python",
   "pygments_lexer": "ipython3",
   "version": "3.10.4"
  }
 },
 "nbformat": 4,
 "nbformat_minor": 2
}
