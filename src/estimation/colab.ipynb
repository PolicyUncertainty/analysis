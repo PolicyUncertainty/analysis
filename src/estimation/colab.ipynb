{
 "cells": [
  {
   "cell_type": "code",
   "outputs": [],
   "source": [
    "!pip install -q condacolab"
   ],
   "metadata": {
    "collapsed": false
   },
   "id": "aed5bc61d9c9e4f4",
   "execution_count": null
  },
  {
   "cell_type": "code",
   "outputs": [],
   "source": [
    "# Install dependencies\n",
    "!pip install linearmodels"
   ],
   "metadata": {
    "collapsed": false
   },
   "id": "73aed4c8f32454eb",
   "execution_count": null
  },
  {
   "cell_type": "code",
   "outputs": [],
   "source": [
    "import condacolab\n",
    "condacolab.install()"
   ],
   "metadata": {
    "collapsed": false
   },
   "id": "f6cd706541c7dafc",
   "execution_count": null
  },
  {
   "cell_type": "code",
   "source": [
    "%load_ext autoreload\n",
    "%autoreload 2\n",
    "import os\n",
    "import time\n",
    "import jax\n",
    "\n",
    "import numpy as np\n",
    "import pandas as pd\n",
    "import sys\n",
    "import yaml\n",
    "jax.config.update(\"jax_enable_x64\", True)\n",
    "import pickle"
   ],
   "metadata": {
    "id": "EEq4xGScVTpA",
    "executionInfo": {
     "status": "ok",
     "timestamp": 1706646367157,
     "user_tz": 300,
     "elapsed": 1231,
     "user": {
      "displayName": "Maximilian Blesch",
      "userId": "15560415244613063040"
     }
    }
   },
   "id": "EEq4xGScVTpA",
   "execution_count": 1,
   "outputs": []
  },
  {
   "cell_type": "code",
   "outputs": [],
   "source": [
    "condacolab.check()"
   ],
   "metadata": {
    "collapsed": false
   },
   "id": "be550f258327a42b",
   "execution_count": null
  },
  {
   "cell_type": "code",
   "outputs": [],
   "source": [
    "!conda install estimagic -c conda-forge"
   ],
   "metadata": {
    "collapsed": false
   },
   "id": "4d680e02ffecb8d6",
   "execution_count": null
  },
  {
   "cell_type": "code",
   "outputs": [],
   "source": [
    "import estimagic as em"
   ],
   "metadata": {
    "collapsed": false
   },
   "id": "1afc163604322d8e",
   "execution_count": null
  },
  {
   "cell_type": "code",
   "source": [
    "# Mount drive. Make sure everything(including submodules) are there\n",
    "from google.colab import drive\n",
    "drive.mount('/content/drive', force_remount=True)"
   ],
   "metadata": {
    "colab": {
     "base_uri": "https://localhost:8080/"
    },
    "id": "YyHm-smbVVOS",
    "executionInfo": {
     "status": "ok",
     "timestamp": 1706646393604,
     "user_tz": 300,
     "elapsed": 26450,
     "user": {
      "displayName": "Maximilian Blesch",
      "userId": "15560415244613063040"
     }
    },
    "outputId": "74143b3a-4d9a-4086-9895-734fdcd4f71f"
   },
   "id": "YyHm-smbVVOS",
   "execution_count": 2,
   "outputs": [
    {
     "output_type": "stream",
     "name": "stdout",
     "text": [
      "Mounted at /content/drive\n"
     ]
    }
   ]
  },
  {
   "cell_type": "code",
   "source": [
    "%cd drive/MyDrive/colab_notebooks/policy_unc/analysis"
   ],
   "metadata": {
    "colab": {
     "base_uri": "https://localhost:8080/"
    },
    "id": "EeUxxRrUVuqP",
    "executionInfo": {
     "status": "ok",
     "timestamp": 1706646393792,
     "user_tz": 300,
     "elapsed": 197,
     "user": {
      "displayName": "Maximilian Blesch",
      "userId": "15560415244613063040"
     }
    },
    "outputId": "a47de825-3067-4677-b5aa-8f9d2ead0fe0"
   },
   "id": "EeUxxRrUVuqP",
   "execution_count": 3,
   "outputs": [
    {
     "output_type": "stream",
     "name": "stdout",
     "text": [
      "/content/drive/MyDrive/colab_notebooks/policy_unc/analysis\n"
     ]
    }
   ]
  },
  {
   "cell_type": "code",
   "outputs": [],
   "source": [],
   "metadata": {
    "collapsed": false
   },
   "id": "51b44044c0383c63",
   "execution_count": null
  },
  {
   "cell_type": "code",
   "outputs": [],
   "source": [
    "analysis_path = os.getcwd() + \"/\"\n",
    "sys.path.insert(0, analysis_path + \"submodules/dcegm/src/\")\n",
    "sys.path.insert(0, analysis_path + \"src/\")\n",
    "from set_paths import create_path_dict\n",
    "path_dict = create_path_dict(analysis_path)"
   ],
   "metadata": {
    "collapsed": false
   },
   "id": "424c944360e40d91",
   "execution_count": null
  },
  {
   "cell_type": "code",
   "outputs": [],
   "source": [
    "from estimation.estimate_setup import estimate_model\n",
    "params_to_estimate_names = [\n",
    "        \"mu\",\n",
    "        \"dis_util_work\",\n",
    "        \"dis_util_unemployed\",\n",
    "        \"bequest_scale\",\n",
    "        # \"lambda\",\n",
    "        \"job_finding_logit_const\",\n",
    "        \"job_finding_logit_age\",\n",
    "        \"job_finding_logit_high_educ\",\n",
    "    ]\n",
    "\n",
    "\n",
    "estimate_model(path_dict, params_to_estimate_names, file_append=\"new\", load_model=True)"
   ],
   "metadata": {
    "collapsed": false
   },
   "id": "9305ba8c92ab6a80",
   "execution_count": null
  }
 ],
 "metadata": {
  "kernelspec": {
   "display_name": "Python 3",
   "name": "python3"
  },
  "language_info": {
   "codemirror_mode": {
    "name": "ipython",
    "version": 2
   },
   "file_extension": ".py",
   "mimetype": "text/x-python",
   "name": "python",
   "nbconvert_exporter": "python",
   "pygments_lexer": "ipython2",
   "version": "2.7.6"
  },
  "colab": {
   "provenance": [],
   "gpuType": "T4"
  },
  "accelerator": "GPU"
 },
 "nbformat": 4,
 "nbformat_minor": 5
}
